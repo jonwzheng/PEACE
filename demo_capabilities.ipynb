{
 "cells": [
  {
   "cell_type": "code",
   "execution_count": 14,
   "id": "f3c4a261-d056-44a7-9cf0-c6eaf8f89947",
   "metadata": {},
   "outputs": [],
   "source": [
    "import pandas as pd\n",
    "from rdkit.Chem import AllChem, Mol\n",
    "from pathlib import Path"
   ]
  },
  {
   "cell_type": "markdown",
   "id": "ca6b4c5b-25f3-4a61-8b17-afc7ad5d8931",
   "metadata": {},
   "source": [
    "# Define classes"
   ]
  },
  {
   "cell_type": "code",
   "execution_count": 48,
   "id": "cb879a14-03c1-4167-ab1a-975a2f576170",
   "metadata": {},
   "outputs": [],
   "source": [
    "class Protomer:\n",
    "    # This module should be compatible with any charge.\n",
    "    def __init__(self, smiles):\n",
    "        self.smiles = smiles\n",
    "        # TODO: make atom-mapped SMILES / rdkit mol object\n",
    "        mol = Chem.MolFromSmiles(smiles)\n",
    "        self.mol = mol\n",
    "        \n",
    "    def check_for_charge(self, mol, charge: int):\n",
    "        mol_charge = AllChem.GetFormalCharge(mol) \n",
    "        if mol_charge != charge:\n",
    "            raise ValueError(f\"Charge of mol is inconsistent: expected {charge}, got {mol_charge}.\")        \n",
    "\n",
    "    def generate_uncharged_protomer_mol(self) -> Mol:\n",
    "        \"\"\"\n",
    "        Given a protomer, finds the uncharged variant as a mol object.\n",
    "        If a molecule with non-zero charge is provided, it will be neturalized to the uncharged form.\n",
    "            output:\n",
    "                Mol object at 0 charge with 0 protons added/removed..\n",
    "        \"\"\"\n",
    "        \n",
    "        # TODO: assert number of N[H1,H2,H3]+ groups MINUS the  number of [X-] groups is equal to the overall charge.\n",
    "        # If they aren't equal, raise an error.\n",
    "        # And ok, so this is only for uncharged molecules?\n",
    "        return self.mol   # TODO\n",
    "\n",
    "class ProtomerCollection:\n",
    "    def __init__(self, smiles: str):\n",
    "        \"\"\"\n",
    "        Species should be of the neutral uncharged form OR a zwitterionic form. \n",
    "        Should keep the uncharged form in a separate collection to the zwitterionic forms. \n",
    "        \"\"\"\n",
    "        self.protomers = {}\n",
    "\n",
    "        # each protomer should have an ID (0 should point to \"uncharged\" form), H-sites (relative to the uncharged form).\n",
    "        # This module should be compatible ONLY with charge=0."
   ]
  },
  {
   "cell_type": "code",
   "execution_count": 47,
   "id": "a35d6666-bd89-438a-915e-7247ba248c5e",
   "metadata": {},
   "outputs": [],
   "source": [
    "spec = Protomer(\"CCO\")\n",
    "spec.check_for_charge(spec.mol, 0)\n",
    "\n",
    "\n",
    "# ProtomerCollection"
   ]
  },
  {
   "cell_type": "code",
   "execution_count": null,
   "id": "a9cb1a55-f1a6-4a54-942f-74ff00e7c083",
   "metadata": {},
   "outputs": [],
   "source": []
  }
 ],
 "metadata": {
  "kernelspec": {
   "display_name": "Python 3 (ipykernel)",
   "language": "python",
   "name": "python3"
  },
  "language_info": {
   "codemirror_mode": {
    "name": "ipython",
    "version": 3
   },
   "file_extension": ".py",
   "mimetype": "text/x-python",
   "name": "python",
   "nbconvert_exporter": "python",
   "pygments_lexer": "ipython3",
   "version": "3.12.1"
  }
 },
 "nbformat": 4,
 "nbformat_minor": 5
}
