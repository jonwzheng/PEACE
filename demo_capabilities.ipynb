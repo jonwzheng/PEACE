{
 "cells": [
  {
   "cell_type": "code",
   "execution_count": 14,
   "id": "f3c4a261-d056-44a7-9cf0-c6eaf8f89947",
   "metadata": {},
   "outputs": [],
   "source": [
    "from protomer import Protomer, ProtomerCollection"
   ]
  }
 ],
 "metadata": {
  "kernelspec": {
   "display_name": "Python 3 (ipykernel)",
   "language": "python",
   "name": "python3"
  },
  "language_info": {
   "codemirror_mode": {
    "name": "ipython",
    "version": 3
   },
   "file_extension": ".py",
   "mimetype": "text/x-python",
   "name": "python",
   "nbconvert_exporter": "python",
   "pygments_lexer": "ipython3",
   "version": "3.12.1"
  }
 },
 "nbformat": 4,
 "nbformat_minor": 5
}
